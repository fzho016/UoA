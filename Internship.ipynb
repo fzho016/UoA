{
 "cells": [
  {
   "cell_type": "code",
   "execution_count": 36,
   "metadata": {},
   "outputs": [],
   "source": [
    "import pandas as pd\n",
    "import matplotlib.pyplot as plt"
   ]
  },
  {
   "cell_type": "code",
   "execution_count": 32,
   "metadata": {},
   "outputs": [],
   "source": [
    "df = pd.read_csv(r'C:\\Users\\peter\\Desktop\\Internship\\uselection_tweets_1jul_11nov.csv', delimiter = ';', parse_dates = ['Created-At'])"
   ]
  },
  {
   "cell_type": "code",
   "execution_count": 33,
   "metadata": {},
   "outputs": [
    {
     "data": {
      "text/plain": [
       "(24201654, 13)"
      ]
     },
     "execution_count": 33,
     "metadata": {},
     "output_type": "execute_result"
    }
   ],
   "source": [
    "df.shape"
   ]
  },
  {
   "cell_type": "code",
   "execution_count": 39,
   "metadata": {},
   "outputs": [
    {
     "data": {
      "text/html": [
       "<div>\n",
       "<style scoped>\n",
       "    .dataframe tbody tr th:only-of-type {\n",
       "        vertical-align: middle;\n",
       "    }\n",
       "\n",
       "    .dataframe tbody tr th {\n",
       "        vertical-align: top;\n",
       "    }\n",
       "\n",
       "    .dataframe thead th {\n",
       "        text-align: right;\n",
       "    }\n",
       "</style>\n",
       "<table border=\"1\" class=\"dataframe\">\n",
       "  <thead>\n",
       "    <tr style=\"text-align: right;\">\n",
       "      <th></th>\n",
       "      <th>Created-At</th>\n",
       "      <th>From-User-Id</th>\n",
       "      <th>To-User-Id</th>\n",
       "      <th>Language</th>\n",
       "      <th>Retweet-Count</th>\n",
       "      <th>PartyName</th>\n",
       "      <th>Id</th>\n",
       "      <th>Score</th>\n",
       "      <th>Scoring String</th>\n",
       "      <th>Negativity</th>\n",
       "      <th>Positivity</th>\n",
       "      <th>Uncovered Tokens</th>\n",
       "      <th>Total Tokens</th>\n",
       "    </tr>\n",
       "  </thead>\n",
       "  <tbody>\n",
       "    <tr>\n",
       "      <th>0</th>\n",
       "      <td>2020-07-01 19:44:00</td>\n",
       "      <td>1223446325758394369</td>\n",
       "      <td>387882597</td>\n",
       "      <td>en</td>\n",
       "      <td>0.0</td>\n",
       "      <td>BothParty</td>\n",
       "      <td>1278368973948694528</td>\n",
       "      <td>0.102564</td>\n",
       "      <td>yep (0.31)  torturing (-0.77)  care (0.56)</td>\n",
       "      <td>0.769231</td>\n",
       "      <td>0.871795</td>\n",
       "      <td>21</td>\n",
       "      <td>24</td>\n",
       "    </tr>\n",
       "    <tr>\n",
       "      <th>1</th>\n",
       "      <td>2020-07-01 19:44:00</td>\n",
       "      <td>1001407960252342273</td>\n",
       "      <td>-1</td>\n",
       "      <td>en</td>\n",
       "      <td>178.0</td>\n",
       "      <td>Republicans</td>\n",
       "      <td>1278368973923528704</td>\n",
       "      <td>-0.589744</td>\n",
       "      <td>ugly (-0.59)</td>\n",
       "      <td>0.589744</td>\n",
       "      <td>0.000000</td>\n",
       "      <td>22</td>\n",
       "      <td>23</td>\n",
       "    </tr>\n",
       "    <tr>\n",
       "      <th>2</th>\n",
       "      <td>2020-07-01 19:44:00</td>\n",
       "      <td>1178522693840392195</td>\n",
       "      <td>-1</td>\n",
       "      <td>en</td>\n",
       "      <td>2.0</td>\n",
       "      <td>Democrats</td>\n",
       "      <td>1278368973910937600</td>\n",
       "      <td>0.692308</td>\n",
       "      <td>okay (0.23)  lol (0.46)</td>\n",
       "      <td>0.000000</td>\n",
       "      <td>0.692308</td>\n",
       "      <td>17</td>\n",
       "      <td>19</td>\n",
       "    </tr>\n",
       "    <tr>\n",
       "      <th>3</th>\n",
       "      <td>2020-07-01 19:44:00</td>\n",
       "      <td>64267482</td>\n",
       "      <td>65497475</td>\n",
       "      <td>en</td>\n",
       "      <td>0.0</td>\n",
       "      <td>Republicans</td>\n",
       "      <td>1278368973893951489</td>\n",
       "      <td>-1.461538</td>\n",
       "      <td>damage (-0.56)  incompetent (-0.54)  resign (-...</td>\n",
       "      <td>1.461538</td>\n",
       "      <td>0.000000</td>\n",
       "      <td>30</td>\n",
       "      <td>33</td>\n",
       "    </tr>\n",
       "    <tr>\n",
       "      <th>4</th>\n",
       "      <td>2020-07-01 19:44:00</td>\n",
       "      <td>1068507190103699456</td>\n",
       "      <td>-1</td>\n",
       "      <td>en</td>\n",
       "      <td>28.0</td>\n",
       "      <td>Republicans</td>\n",
       "      <td>1278368973881511936</td>\n",
       "      <td>0.025641</td>\n",
       "      <td>clean (0.44)  threat (-0.62)  admit (0.21)</td>\n",
       "      <td>0.615385</td>\n",
       "      <td>0.641026</td>\n",
       "      <td>28</td>\n",
       "      <td>31</td>\n",
       "    </tr>\n",
       "  </tbody>\n",
       "</table>\n",
       "</div>"
      ],
      "text/plain": [
       "           Created-At         From-User-Id  To-User-Id Language  \\\n",
       "0 2020-07-01 19:44:00  1223446325758394369   387882597       en   \n",
       "1 2020-07-01 19:44:00  1001407960252342273          -1       en   \n",
       "2 2020-07-01 19:44:00  1178522693840392195          -1       en   \n",
       "3 2020-07-01 19:44:00             64267482    65497475       en   \n",
       "4 2020-07-01 19:44:00  1068507190103699456          -1       en   \n",
       "\n",
       "   Retweet-Count    PartyName                   Id     Score  \\\n",
       "0            0.0    BothParty  1278368973948694528  0.102564   \n",
       "1          178.0  Republicans  1278368973923528704 -0.589744   \n",
       "2            2.0    Democrats  1278368973910937600  0.692308   \n",
       "3            0.0  Republicans  1278368973893951489 -1.461538   \n",
       "4           28.0  Republicans  1278368973881511936  0.025641   \n",
       "\n",
       "                                      Scoring String  Negativity  Positivity  \\\n",
       "0         yep (0.31)  torturing (-0.77)  care (0.56)    0.769231    0.871795   \n",
       "1                                       ugly (-0.59)    0.589744    0.000000   \n",
       "2                            okay (0.23)  lol (0.46)    0.000000    0.692308   \n",
       "3  damage (-0.56)  incompetent (-0.54)  resign (-...    1.461538    0.000000   \n",
       "4         clean (0.44)  threat (-0.62)  admit (0.21)    0.615385    0.641026   \n",
       "\n",
       "   Uncovered Tokens  Total Tokens  \n",
       "0                21            24  \n",
       "1                22            23  \n",
       "2                17            19  \n",
       "3                30            33  \n",
       "4                28            31  "
      ]
     },
     "execution_count": 39,
     "metadata": {},
     "output_type": "execute_result"
    }
   ],
   "source": [
    "df.head()"
   ]
  },
  {
   "cell_type": "code",
   "execution_count": 37,
   "metadata": {},
   "outputs": [
    {
     "name": "stdout",
     "output_type": "stream",
     "text": [
      "<class 'pandas.core.frame.DataFrame'>\n",
      "RangeIndex: 24201654 entries, 0 to 24201653\n",
      "Data columns (total 13 columns):\n",
      " #   Column            Dtype         \n",
      "---  ------            -----         \n",
      " 0   Created-At        datetime64[ns]\n",
      " 1   From-User-Id      int64         \n",
      " 2   To-User-Id        int64         \n",
      " 3   Language          object        \n",
      " 4   Retweet-Count     float64       \n",
      " 5   PartyName         object        \n",
      " 6   Id                int64         \n",
      " 7   Score             float64       \n",
      " 8   Scoring String    object        \n",
      " 9   Negativity        float64       \n",
      " 10  Positivity        float64       \n",
      " 11  Uncovered Tokens  int64         \n",
      " 12  Total Tokens      int64         \n",
      "dtypes: datetime64[ns](1), float64(4), int64(5), object(3)\n",
      "memory usage: 2.3+ GB\n"
     ]
    }
   ],
   "source": [
    "df.info()"
   ]
  },
  {
   "cell_type": "code",
   "execution_count": null,
   "metadata": {},
   "outputs": [],
   "source": []
  }
 ],
 "metadata": {
  "kernelspec": {
   "display_name": "Python 3",
   "language": "python",
   "name": "python3"
  },
  "language_info": {
   "codemirror_mode": {
    "name": "ipython",
    "version": 3
   },
   "file_extension": ".py",
   "mimetype": "text/x-python",
   "name": "python",
   "nbconvert_exporter": "python",
   "pygments_lexer": "ipython3",
   "version": "3.9.1"
  }
 },
 "nbformat": 4,
 "nbformat_minor": 4
}
